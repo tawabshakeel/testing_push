{
 "cells": [
  {
   "cell_type": "code",
   "execution_count": 1,
   "id": "969397c5-501f-442a-ae49-d7d78b8f1bd6",
   "metadata": {},
   "outputs": [
    {
     "name": "stdout",
     "output_type": "stream",
     "text": [
      "Collecting pymysql\n",
      "  Downloading PyMySQL-1.1.1-py3-none-any.whl.metadata (4.4 kB)\n",
      "Downloading PyMySQL-1.1.1-py3-none-any.whl (44 kB)\n",
      "\u001b[2K   \u001b[90m━━━━━━━━━━━━━━━━━━━━━━━━━━━━━━━━━━━━━━━━\u001b[0m \u001b[32m45.0/45.0 kB\u001b[0m \u001b[31m311.2 kB/s\u001b[0m eta \u001b[36m0:00:00\u001b[0ma \u001b[36m0:00:01\u001b[0m\n",
      "\u001b[?25hInstalling collected packages: pymysql\n",
      "Successfully installed pymysql-1.1.1\n"
     ]
    }
   ],
   "source": [
    "!pip install pymysql\n"
   ]
  },
  {
   "cell_type": "code",
   "execution_count": 3,
   "id": "0977e114-3471-4de2-84c7-eb1cf4418848",
   "metadata": {},
   "outputs": [
    {
     "name": "stdout",
     "output_type": "stream",
     "text": [
      "Collecting sqlalchemy\n",
      "  Downloading SQLAlchemy-2.0.31-cp310-cp310-macosx_10_9_x86_64.whl.metadata (9.6 kB)\n",
      "Requirement already satisfied: typing-extensions>=4.6.0 in /opt/anaconda3/envs/bia/lib/python3.10/site-packages (from sqlalchemy) (4.11.0)\n",
      "Collecting greenlet!=0.4.17 (from sqlalchemy)\n",
      "  Using cached greenlet-3.0.3.tar.gz (182 kB)\n",
      "  Installing build dependencies ... \u001b[?25ldone\n",
      "\u001b[?25h  Getting requirements to build wheel ... \u001b[?25ldone\n",
      "\u001b[?25h  Preparing metadata (pyproject.toml) ... \u001b[?25ldone\n",
      "\u001b[?25hDownloading SQLAlchemy-2.0.31-cp310-cp310-macosx_10_9_x86_64.whl (2.1 MB)\n",
      "\u001b[2K   \u001b[90m━━━━━━━━━━━━━━━━━━━━━━━━━━━━━━━━━━━━━━━━\u001b[0m \u001b[32m2.1/2.1 MB\u001b[0m \u001b[31m2.8 MB/s\u001b[0m eta \u001b[36m0:00:00\u001b[0ma \u001b[36m0:00:01\u001b[0m0m\n",
      "\u001b[?25hBuilding wheels for collected packages: greenlet\n",
      "  Building wheel for greenlet (pyproject.toml) ... \u001b[?25ldone\n",
      "\u001b[?25h  Created wheel for greenlet: filename=greenlet-3.0.3-cp310-cp310-macosx_10_9_x86_64.whl size=213706 sha256=d277f31f19f2a018d1e4348ab011db7ebaee53a0917df9140f51338f51f9a21f\n",
      "  Stored in directory: /Users/tawabshakeel/Library/Caches/pip/wheels/3a/96/ec/7725e96479eb6d95655576826b2ccafd788805f2a89478331c\n",
      "Successfully built greenlet\n",
      "Installing collected packages: greenlet, sqlalchemy\n",
      "Successfully installed greenlet-3.0.3 sqlalchemy-2.0.31\n"
     ]
    }
   ],
   "source": [
    "!pip install sqlalchemy"
   ]
  },
  {
   "cell_type": "code",
   "execution_count": 18,
   "id": "944f21a6-b410-47b7-a363-d894e0633131",
   "metadata": {},
   "outputs": [],
   "source": [
    "from sqlalchemy import create_engine\n",
    "from sqlalchemy.orm import sessionmaker\n",
    "from sqlalchemy import text\n",
    "import pandas as pd\n",
    "\n",
    "# Replace with your actual database credentials\n",
    "username = 'root'\n",
    "password = 'tawab123'\n",
    "host = 'localhost'\n",
    "database = 'store'\n",
    "\n",
    "# Create the connection string\n",
    "connection_string = f'mysql+pymysql://{username}:{password}@{host}/{database}'\n",
    "\n",
    "# Create an engine\n",
    "engine = create_engine(connection_string)\n",
    "\n",
    "\n",
    "# Create a configured \"Session\" class\n",
    "Session = sessionmaker(bind=engine)\n",
    "\n",
    "# Create a session\n",
    "session = Session()"
   ]
  },
  {
   "cell_type": "code",
   "execution_count": 14,
   "id": "6dc9c389-b203-4bd2-a3fe-87838d3485cc",
   "metadata": {},
   "outputs": [],
   "source": []
  },
  {
   "cell_type": "code",
   "execution_count": 16,
   "id": "1d980035-ebfb-4dff-a0c3-61ceef830882",
   "metadata": {},
   "outputs": [],
   "source": [
    "query = \"select * from orders\"\n",
    "\n",
    "df = pd.read_sql_query(query,engine)"
   ]
  },
  {
   "cell_type": "code",
   "execution_count": null,
   "id": "9a13cffd-58fd-4f41-acf5-e6901c7476cf",
   "metadata": {},
   "outputs": [],
   "source": []
  },
  {
   "cell_type": "code",
   "execution_count": null,
   "id": "6e5beb67-619f-43d7-b77a-98cc49ea6eed",
   "metadata": {},
   "outputs": [],
   "source": []
  },
  {
   "cell_type": "code",
   "execution_count": 27,
   "id": "44f0d150-9346-4be8-ad3f-8e988544563f",
   "metadata": {},
   "outputs": [],
   "source": [
    "result = session.execute(text(query))"
   ]
  },
  {
   "cell_type": "code",
   "execution_count": 28,
   "id": "6cc9fbbf-5282-4173-b69c-37184133fedc",
   "metadata": {
    "scrolled": true
   },
   "outputs": [],
   "source": [
    "res = result.fetchall()"
   ]
  },
  {
   "cell_type": "code",
   "execution_count": null,
   "id": "28affe8b-a012-4ec2-a4c9-c862663089eb",
   "metadata": {
    "scrolled": true
   },
   "outputs": [],
   "source": []
  },
  {
   "cell_type": "code",
   "execution_count": null,
   "id": "cdfaf0cb-5edc-464b-b1d8-da5facadc80f",
   "metadata": {
    "scrolled": true
   },
   "outputs": [],
   "source": []
  },
  {
   "cell_type": "code",
   "execution_count": null,
   "id": "f887dc2f-c5f0-4eac-a16b-48d0b5181253",
   "metadata": {},
   "outputs": [],
   "source": []
  }
 ],
 "metadata": {
  "kernelspec": {
   "display_name": "Python 3 (ipykernel)",
   "language": "python",
   "name": "python3"
  },
  "language_info": {
   "codemirror_mode": {
    "name": "ipython",
    "version": 3
   },
   "file_extension": ".py",
   "mimetype": "text/x-python",
   "name": "python",
   "nbconvert_exporter": "python",
   "pygments_lexer": "ipython3",
   "version": "3.10.14"
  }
 },
 "nbformat": 4,
 "nbformat_minor": 5
}
